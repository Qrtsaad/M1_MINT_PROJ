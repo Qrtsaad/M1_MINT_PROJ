{
  "nbformat": 4,
  "nbformat_minor": 0,
  "metadata": {
    "kernelspec": {
      "display_name": "Python 3",
      "language": "python",
      "name": "python3"
    },
    "language_info": {
      "codemirror_mode": {
        "name": "ipython",
        "version": 3
      },
      "file_extension": ".py",
      "mimetype": "text/x-python",
      "name": "python",
      "nbconvert_exporter": "python",
      "pygments_lexer": "ipython3",
      "version": "3.7.4"
    },
    "toc": {
      "base_numbering": 1,
      "nav_menu": {},
      "number_sections": true,
      "sideBar": true,
      "skip_h1_title": false,
      "title_cell": "Table of Contents",
      "title_sidebar": "Contents",
      "toc_cell": false,
      "toc_position": {
        "height": "calc(100% - 180px)",
        "left": "10px",
        "top": "150px",
        "width": "291.125px"
      },
      "toc_section_display": true,
      "toc_window_display": false
    },
    "colab": {
      "name": "DM_ML_QRIOUET_SAAD",
      "provenance": [],
      "collapsed_sections": [],
      "toc_visible": true
    }
  },
  "cells": [
    {
      "cell_type": "markdown",
      "metadata": {
        "id": "fpziLDSbfsPq"
      },
      "source": [
        "# TP 2 : crédit scoring sur gro (colab)\n"
      ]
    },
    {
      "cell_type": "markdown",
      "metadata": {
        "id": "CDKtVMs5fsPt"
      },
      "source": [
        "Nous allons travailler sur le jeu de données `gro.csv` pour faire du **credit scoring**, qui a été proposé il y a quelques années sur un site de data challenge. C'est un vrai de jeu qui contient des données avec différents types de variable, des valeurs manquantes, etc, il a été préparé et nous allons donc travailler sur sa version sans données manquantes (voir `Preparation_data_gro-corrected.ipynb`), nous allons donc importer `gro_prep_df_nomissing.csv` qui contient 37 features et le label."
      ]
    },
    {
      "cell_type": "code",
      "metadata": {
        "ExecuteTime": {
          "end_time": "2020-10-09T14:04:01.662026Z",
          "start_time": "2020-10-09T14:04:01.639671Z"
        },
        "scrolled": false,
        "colab": {
          "base_uri": "https://localhost:8080/"
        },
        "id": "8JcjIvjIfsPt",
        "outputId": "8ded925d-9a36-4810-b7dc-7d1eb8a85472"
      },
      "source": [
        "import numpy as np\n",
        "import pandas as pd\n",
        "import matplotlib.pyplot as plt\n",
        "\n",
        "np.set_printoptions(precision=3)\n",
        "\n",
        "import seaborn as sns\n",
        "\n",
        "sns.set_context(\"notebook\", font_scale=1.2)\n",
        "\n",
        "\n",
        "from google.colab import drive\n",
        "drive.mount('/content/gdrive')"
      ],
      "execution_count": 1,
      "outputs": [
        {
          "output_type": "stream",
          "text": [
            "Mounted at /content/gdrive\n"
          ],
          "name": "stdout"
        }
      ]
    },
    {
      "cell_type": "code",
      "metadata": {
        "id": "koDSc7nRhB1R"
      },
      "source": [
        "df = pd.read_csv('/content/gdrive/MyDrive/Colab Notebooks/Machine_learning_M1_MINT/gro_prep_df_nomissing.csv', index_col=0)"
      ],
      "execution_count": 5,
      "outputs": []
    },
    {
      "cell_type": "code",
      "metadata": {
        "ExecuteTime": {
          "end_time": "2020-10-09T14:04:22.784765Z",
          "start_time": "2020-10-09T14:04:22.780486Z"
        },
        "scrolled": false,
        "id": "ihqKGF2OfsPu",
        "colab": {
          "base_uri": "https://localhost:8080/",
          "height": 402
        },
        "outputId": "4c735d4b-e2d3-4d60-bcb3-b12c338ec5fd"
      },
      "source": [
        "df.describe()"
      ],
      "execution_count": 6,
      "outputs": [
        {
          "output_type": "execute_result",
          "data": {
            "text/html": [
              "<div>\n",
              "<style scoped>\n",
              "    .dataframe tbody tr th:only-of-type {\n",
              "        vertical-align: middle;\n",
              "    }\n",
              "\n",
              "    .dataframe tbody tr th {\n",
              "        vertical-align: top;\n",
              "    }\n",
              "\n",
              "    .dataframe thead th {\n",
              "        text-align: right;\n",
              "    }\n",
              "</style>\n",
              "<table border=\"1\" class=\"dataframe\">\n",
              "  <thead>\n",
              "    <tr style=\"text-align: right;\">\n",
              "      <th></th>\n",
              "      <th>0</th>\n",
              "      <th>1</th>\n",
              "      <th>2</th>\n",
              "      <th>3</th>\n",
              "      <th>4</th>\n",
              "      <th>5</th>\n",
              "      <th>6</th>\n",
              "      <th>7</th>\n",
              "      <th>8</th>\n",
              "      <th>9</th>\n",
              "      <th>10</th>\n",
              "      <th>11</th>\n",
              "      <th>12</th>\n",
              "      <th>13</th>\n",
              "      <th>14</th>\n",
              "      <th>15</th>\n",
              "      <th>16</th>\n",
              "      <th>17</th>\n",
              "      <th>18</th>\n",
              "      <th>19</th>\n",
              "      <th>20</th>\n",
              "      <th>21</th>\n",
              "      <th>22</th>\n",
              "      <th>23</th>\n",
              "      <th>24</th>\n",
              "      <th>25</th>\n",
              "      <th>26</th>\n",
              "      <th>27</th>\n",
              "      <th>28</th>\n",
              "      <th>29</th>\n",
              "      <th>30</th>\n",
              "      <th>31</th>\n",
              "      <th>32</th>\n",
              "      <th>33</th>\n",
              "      <th>34</th>\n",
              "      <th>35</th>\n",
              "      <th>36</th>\n",
              "      <th>37</th>\n",
              "      <th>Y</th>\n",
              "    </tr>\n",
              "  </thead>\n",
              "  <tbody>\n",
              "    <tr>\n",
              "      <th>count</th>\n",
              "      <td>6.725000e+03</td>\n",
              "      <td>6.725000e+03</td>\n",
              "      <td>6.725000e+03</td>\n",
              "      <td>6.725000e+03</td>\n",
              "      <td>6725.000000</td>\n",
              "      <td>6725.000000</td>\n",
              "      <td>6725.000000</td>\n",
              "      <td>6725.000000</td>\n",
              "      <td>6725.000000</td>\n",
              "      <td>6725.000000</td>\n",
              "      <td>6725.000000</td>\n",
              "      <td>6725.000000</td>\n",
              "      <td>6725.000000</td>\n",
              "      <td>6725.000000</td>\n",
              "      <td>6725.000000</td>\n",
              "      <td>6725.000000</td>\n",
              "      <td>6725.000000</td>\n",
              "      <td>6725.000000</td>\n",
              "      <td>6725.000000</td>\n",
              "      <td>6725.000000</td>\n",
              "      <td>6725.000000</td>\n",
              "      <td>6725.000000</td>\n",
              "      <td>6725.000000</td>\n",
              "      <td>6725.000000</td>\n",
              "      <td>6725.000000</td>\n",
              "      <td>6725.000000</td>\n",
              "      <td>6725.000000</td>\n",
              "      <td>6725.000000</td>\n",
              "      <td>6725.000000</td>\n",
              "      <td>6725.000000</td>\n",
              "      <td>6725.000000</td>\n",
              "      <td>6725.000000</td>\n",
              "      <td>6725.000000</td>\n",
              "      <td>6725.000000</td>\n",
              "      <td>6725.000000</td>\n",
              "      <td>6.725000e+03</td>\n",
              "      <td>6.725000e+03</td>\n",
              "      <td>6.725000e+03</td>\n",
              "      <td>6725.000000</td>\n",
              "    </tr>\n",
              "    <tr>\n",
              "      <th>mean</th>\n",
              "      <td>3.701706e-16</td>\n",
              "      <td>-3.550237e-17</td>\n",
              "      <td>-9.542140e-18</td>\n",
              "      <td>3.762046e-16</td>\n",
              "      <td>0.626617</td>\n",
              "      <td>0.076134</td>\n",
              "      <td>0.095613</td>\n",
              "      <td>0.003866</td>\n",
              "      <td>0.889368</td>\n",
              "      <td>0.783346</td>\n",
              "      <td>0.000297</td>\n",
              "      <td>0.192268</td>\n",
              "      <td>0.012491</td>\n",
              "      <td>0.119703</td>\n",
              "      <td>0.020372</td>\n",
              "      <td>0.765651</td>\n",
              "      <td>0.015613</td>\n",
              "      <td>0.059331</td>\n",
              "      <td>0.890112</td>\n",
              "      <td>0.034201</td>\n",
              "      <td>0.591673</td>\n",
              "      <td>0.098885</td>\n",
              "      <td>0.124164</td>\n",
              "      <td>0.017993</td>\n",
              "      <td>0.000892</td>\n",
              "      <td>0.037175</td>\n",
              "      <td>0.013680</td>\n",
              "      <td>0.000595</td>\n",
              "      <td>0.012639</td>\n",
              "      <td>0.048030</td>\n",
              "      <td>0.043271</td>\n",
              "      <td>0.007732</td>\n",
              "      <td>0.079108</td>\n",
              "      <td>0.003866</td>\n",
              "      <td>0.786766</td>\n",
              "      <td>2.017056e-16</td>\n",
              "      <td>-1.769341e-16</td>\n",
              "      <td>-2.877376e-16</td>\n",
              "      <td>0.072862</td>\n",
              "    </tr>\n",
              "    <tr>\n",
              "      <th>std</th>\n",
              "      <td>1.000074e+00</td>\n",
              "      <td>1.000074e+00</td>\n",
              "      <td>1.000074e+00</td>\n",
              "      <td>1.000074e+00</td>\n",
              "      <td>0.483738</td>\n",
              "      <td>0.265232</td>\n",
              "      <td>0.294082</td>\n",
              "      <td>0.062063</td>\n",
              "      <td>0.313699</td>\n",
              "      <td>0.411996</td>\n",
              "      <td>0.017244</td>\n",
              "      <td>0.394112</td>\n",
              "      <td>0.111070</td>\n",
              "      <td>0.324638</td>\n",
              "      <td>0.141279</td>\n",
              "      <td>0.423623</td>\n",
              "      <td>0.123983</td>\n",
              "      <td>0.236260</td>\n",
              "      <td>0.312774</td>\n",
              "      <td>0.181758</td>\n",
              "      <td>0.491561</td>\n",
              "      <td>0.298529</td>\n",
              "      <td>0.329793</td>\n",
              "      <td>0.132934</td>\n",
              "      <td>0.029858</td>\n",
              "      <td>0.189204</td>\n",
              "      <td>0.116169</td>\n",
              "      <td>0.024383</td>\n",
              "      <td>0.111721</td>\n",
              "      <td>0.213845</td>\n",
              "      <td>0.203482</td>\n",
              "      <td>0.087600</td>\n",
              "      <td>0.269927</td>\n",
              "      <td>0.062063</td>\n",
              "      <td>0.409622</td>\n",
              "      <td>1.000074e+00</td>\n",
              "      <td>1.000074e+00</td>\n",
              "      <td>1.000074e+00</td>\n",
              "      <td>0.259930</td>\n",
              "    </tr>\n",
              "    <tr>\n",
              "      <th>min</th>\n",
              "      <td>-1.258299e+00</td>\n",
              "      <td>-1.114280e+00</td>\n",
              "      <td>-5.878422e-01</td>\n",
              "      <td>-7.889463e-01</td>\n",
              "      <td>0.000000</td>\n",
              "      <td>0.000000</td>\n",
              "      <td>0.000000</td>\n",
              "      <td>0.000000</td>\n",
              "      <td>0.000000</td>\n",
              "      <td>0.000000</td>\n",
              "      <td>0.000000</td>\n",
              "      <td>0.000000</td>\n",
              "      <td>0.000000</td>\n",
              "      <td>0.000000</td>\n",
              "      <td>0.000000</td>\n",
              "      <td>0.000000</td>\n",
              "      <td>0.000000</td>\n",
              "      <td>0.000000</td>\n",
              "      <td>0.000000</td>\n",
              "      <td>0.000000</td>\n",
              "      <td>0.000000</td>\n",
              "      <td>0.000000</td>\n",
              "      <td>0.000000</td>\n",
              "      <td>0.000000</td>\n",
              "      <td>0.000000</td>\n",
              "      <td>0.000000</td>\n",
              "      <td>0.000000</td>\n",
              "      <td>0.000000</td>\n",
              "      <td>0.000000</td>\n",
              "      <td>0.000000</td>\n",
              "      <td>0.000000</td>\n",
              "      <td>0.000000</td>\n",
              "      <td>0.000000</td>\n",
              "      <td>0.000000</td>\n",
              "      <td>0.000000</td>\n",
              "      <td>-3.165211e+00</td>\n",
              "      <td>-9.737582e+00</td>\n",
              "      <td>-2.198404e+00</td>\n",
              "      <td>0.000000</td>\n",
              "    </tr>\n",
              "    <tr>\n",
              "      <th>25%</th>\n",
              "      <td>-8.577183e-01</td>\n",
              "      <td>-5.954572e-01</td>\n",
              "      <td>-4.499738e-01</td>\n",
              "      <td>-7.889463e-01</td>\n",
              "      <td>0.000000</td>\n",
              "      <td>0.000000</td>\n",
              "      <td>0.000000</td>\n",
              "      <td>0.000000</td>\n",
              "      <td>1.000000</td>\n",
              "      <td>1.000000</td>\n",
              "      <td>0.000000</td>\n",
              "      <td>0.000000</td>\n",
              "      <td>0.000000</td>\n",
              "      <td>0.000000</td>\n",
              "      <td>0.000000</td>\n",
              "      <td>1.000000</td>\n",
              "      <td>0.000000</td>\n",
              "      <td>0.000000</td>\n",
              "      <td>1.000000</td>\n",
              "      <td>0.000000</td>\n",
              "      <td>0.000000</td>\n",
              "      <td>0.000000</td>\n",
              "      <td>0.000000</td>\n",
              "      <td>0.000000</td>\n",
              "      <td>0.000000</td>\n",
              "      <td>0.000000</td>\n",
              "      <td>0.000000</td>\n",
              "      <td>0.000000</td>\n",
              "      <td>0.000000</td>\n",
              "      <td>0.000000</td>\n",
              "      <td>0.000000</td>\n",
              "      <td>0.000000</td>\n",
              "      <td>0.000000</td>\n",
              "      <td>0.000000</td>\n",
              "      <td>1.000000</td>\n",
              "      <td>-7.691868e-01</td>\n",
              "      <td>1.066106e-01</td>\n",
              "      <td>-7.184871e-01</td>\n",
              "      <td>0.000000</td>\n",
              "    </tr>\n",
              "    <tr>\n",
              "      <th>50%</th>\n",
              "      <td>-2.568479e-01</td>\n",
              "      <td>-1.803785e-01</td>\n",
              "      <td>-4.499738e-01</td>\n",
              "      <td>-7.889463e-01</td>\n",
              "      <td>1.000000</td>\n",
              "      <td>0.000000</td>\n",
              "      <td>0.000000</td>\n",
              "      <td>0.000000</td>\n",
              "      <td>1.000000</td>\n",
              "      <td>1.000000</td>\n",
              "      <td>0.000000</td>\n",
              "      <td>0.000000</td>\n",
              "      <td>0.000000</td>\n",
              "      <td>0.000000</td>\n",
              "      <td>0.000000</td>\n",
              "      <td>1.000000</td>\n",
              "      <td>0.000000</td>\n",
              "      <td>0.000000</td>\n",
              "      <td>1.000000</td>\n",
              "      <td>0.000000</td>\n",
              "      <td>1.000000</td>\n",
              "      <td>0.000000</td>\n",
              "      <td>0.000000</td>\n",
              "      <td>0.000000</td>\n",
              "      <td>0.000000</td>\n",
              "      <td>0.000000</td>\n",
              "      <td>0.000000</td>\n",
              "      <td>0.000000</td>\n",
              "      <td>0.000000</td>\n",
              "      <td>0.000000</td>\n",
              "      <td>0.000000</td>\n",
              "      <td>0.000000</td>\n",
              "      <td>0.000000</td>\n",
              "      <td>0.000000</td>\n",
              "      <td>1.000000</td>\n",
              "      <td>1.355234e-01</td>\n",
              "      <td>3.239256e-01</td>\n",
              "      <td>-7.534554e-02</td>\n",
              "      <td>0.000000</td>\n",
              "    </tr>\n",
              "    <tr>\n",
              "      <th>75%</th>\n",
              "      <td>4.441676e-01</td>\n",
              "      <td>-1.803785e-01</td>\n",
              "      <td>-3.636856e-02</td>\n",
              "      <td>7.119487e-01</td>\n",
              "      <td>1.000000</td>\n",
              "      <td>0.000000</td>\n",
              "      <td>0.000000</td>\n",
              "      <td>0.000000</td>\n",
              "      <td>1.000000</td>\n",
              "      <td>1.000000</td>\n",
              "      <td>0.000000</td>\n",
              "      <td>0.000000</td>\n",
              "      <td>0.000000</td>\n",
              "      <td>0.000000</td>\n",
              "      <td>0.000000</td>\n",
              "      <td>1.000000</td>\n",
              "      <td>0.000000</td>\n",
              "      <td>0.000000</td>\n",
              "      <td>1.000000</td>\n",
              "      <td>0.000000</td>\n",
              "      <td>1.000000</td>\n",
              "      <td>0.000000</td>\n",
              "      <td>0.000000</td>\n",
              "      <td>0.000000</td>\n",
              "      <td>0.000000</td>\n",
              "      <td>0.000000</td>\n",
              "      <td>0.000000</td>\n",
              "      <td>0.000000</td>\n",
              "      <td>0.000000</td>\n",
              "      <td>0.000000</td>\n",
              "      <td>0.000000</td>\n",
              "      <td>0.000000</td>\n",
              "      <td>0.000000</td>\n",
              "      <td>0.000000</td>\n",
              "      <td>1.000000</td>\n",
              "      <td>8.420400e-01</td>\n",
              "      <td>4.370363e-01</td>\n",
              "      <td>6.784440e-01</td>\n",
              "      <td>0.000000</td>\n",
              "    </tr>\n",
              "    <tr>\n",
              "      <th>max</th>\n",
              "      <td>6.052291e+00</td>\n",
              "      <td>4.074178e+00</td>\n",
              "      <td>1.292326e+01</td>\n",
              "      <td>1.422000e+01</td>\n",
              "      <td>1.000000</td>\n",
              "      <td>1.000000</td>\n",
              "      <td>1.000000</td>\n",
              "      <td>1.000000</td>\n",
              "      <td>1.000000</td>\n",
              "      <td>1.000000</td>\n",
              "      <td>1.000000</td>\n",
              "      <td>1.000000</td>\n",
              "      <td>1.000000</td>\n",
              "      <td>1.000000</td>\n",
              "      <td>1.000000</td>\n",
              "      <td>1.000000</td>\n",
              "      <td>1.000000</td>\n",
              "      <td>1.000000</td>\n",
              "      <td>1.000000</td>\n",
              "      <td>1.000000</td>\n",
              "      <td>1.000000</td>\n",
              "      <td>1.000000</td>\n",
              "      <td>1.000000</td>\n",
              "      <td>1.000000</td>\n",
              "      <td>1.000000</td>\n",
              "      <td>1.000000</td>\n",
              "      <td>1.000000</td>\n",
              "      <td>1.000000</td>\n",
              "      <td>1.000000</td>\n",
              "      <td>1.000000</td>\n",
              "      <td>1.000000</td>\n",
              "      <td>1.000000</td>\n",
              "      <td>1.000000</td>\n",
              "      <td>1.000000</td>\n",
              "      <td>1.000000</td>\n",
              "      <td>1.725809e+00</td>\n",
              "      <td>7.425242e-01</td>\n",
              "      <td>2.628615e+00</td>\n",
              "      <td>1.000000</td>\n",
              "    </tr>\n",
              "  </tbody>\n",
              "</table>\n",
              "</div>"
            ],
            "text/plain": [
              "                  0             1  ...            37            Y\n",
              "count  6.725000e+03  6.725000e+03  ...  6.725000e+03  6725.000000\n",
              "mean   3.701706e-16 -3.550237e-17  ... -2.877376e-16     0.072862\n",
              "std    1.000074e+00  1.000074e+00  ...  1.000074e+00     0.259930\n",
              "min   -1.258299e+00 -1.114280e+00  ... -2.198404e+00     0.000000\n",
              "25%   -8.577183e-01 -5.954572e-01  ... -7.184871e-01     0.000000\n",
              "50%   -2.568479e-01 -1.803785e-01  ... -7.534554e-02     0.000000\n",
              "75%    4.441676e-01 -1.803785e-01  ...  6.784440e-01     0.000000\n",
              "max    6.052291e+00  4.074178e+00  ...  2.628615e+00     1.000000\n",
              "\n",
              "[8 rows x 39 columns]"
            ]
          },
          "metadata": {
            "tags": []
          },
          "execution_count": 6
        }
      ]
    },
    {
      "cell_type": "code",
      "metadata": {
        "colab": {
          "base_uri": "https://localhost:8080/",
          "height": 360
        },
        "id": "qzPxDwk5SL1W",
        "outputId": "3f169484-9ee3-46b1-eaf8-5e58edc45adb"
      },
      "source": [
        "sns.countplot(\"Y\", data=df)"
      ],
      "execution_count": 7,
      "outputs": [
        {
          "output_type": "stream",
          "text": [
            "/usr/local/lib/python3.6/dist-packages/seaborn/_decorators.py:43: FutureWarning: Pass the following variable as a keyword arg: x. From version 0.12, the only valid positional argument will be `data`, and passing other arguments without an explicit keyword will result in an error or misinterpretation.\n",
            "  FutureWarning\n"
          ],
          "name": "stderr"
        },
        {
          "output_type": "execute_result",
          "data": {
            "text/plain": [
              "<matplotlib.axes._subplots.AxesSubplot at 0x7fc82a691f28>"
            ]
          },
          "metadata": {
            "tags": []
          },
          "execution_count": 7
        },
        {
          "output_type": "display_data",
          "data": {
            "image/png": "[encoded data removed]",
            "text/plain": [
              "<Figure size 432x288 with 1 Axes>"
            ]
          },
          "metadata": {
            "tags": [],
            "needs_background": "light"
          }
        }
      ]
    },
    {
      "cell_type": "markdown",
      "metadata": {
        "id": "jYj3MPBTfsPw"
      },
      "source": [
        "## Séparation des features et du label\n",
        "On commence par séparer le label des features.\n"
      ]
    },
    {
      "cell_type": "code",
      "metadata": {
        "id": "thuMFQWsfsPw"
      },
      "source": [
        "# Removes the \"Y\" column from df and casts it into integer type\n",
        "y = 2*df.pop(\"Y\").astype(\"int\") - 1 # pour se remettre sur -1,1\n",
        "X = df"
      ],
      "execution_count": 8,
      "outputs": []
    },
    {
      "cell_type": "code",
      "metadata": {
        "id": "bwHPbNdIfsP0",
        "colab": {
          "base_uri": "https://localhost:8080/"
        },
        "outputId": "4def6857-7ad6-4dcd-c88d-9588180b2bd9"
      },
      "source": [
        "y.head()"
      ],
      "execution_count": 9,
      "outputs": [
        {
          "output_type": "execute_result",
          "data": {
            "text/plain": [
              "0   -1\n",
              "1   -1\n",
              "2   -1\n",
              "3   -1\n",
              "4    1\n",
              "Name: Y, dtype: int64"
            ]
          },
          "metadata": {
            "tags": []
          },
          "execution_count": 9
        }
      ]
    },
    {
      "cell_type": "code",
      "metadata": {
        "scrolled": true,
        "id": "1XHnO1_CfsP0",
        "colab": {
          "base_uri": "https://localhost:8080/",
          "height": 224
        },
        "outputId": "5d3bc1e0-a2c0-4628-fe43-6957c4a865d0"
      },
      "source": [
        "X.head()"
      ],
      "execution_count": 10,
      "outputs": [
        {
          "output_type": "execute_result",
          "data": {
            "text/html": [
              "<div>\n",
              "<style scoped>\n",
              "    .dataframe tbody tr th:only-of-type {\n",
              "        vertical-align: middle;\n",
              "    }\n",
              "\n",
              "    .dataframe tbody tr th {\n",
              "        vertical-align: top;\n",
              "    }\n",
              "\n",
              "    .dataframe thead th {\n",
              "        text-align: right;\n",
              "    }\n",
              "</style>\n",
              "<table border=\"1\" class=\"dataframe\">\n",
              "  <thead>\n",
              "    <tr style=\"text-align: right;\">\n",
              "      <th></th>\n",
              "      <th>0</th>\n",
              "      <th>1</th>\n",
              "      <th>2</th>\n",
              "      <th>3</th>\n",
              "      <th>4</th>\n",
              "      <th>5</th>\n",
              "      <th>6</th>\n",
              "      <th>7</th>\n",
              "      <th>8</th>\n",
              "      <th>9</th>\n",
              "      <th>10</th>\n",
              "      <th>11</th>\n",
              "      <th>12</th>\n",
              "      <th>13</th>\n",
              "      <th>14</th>\n",
              "      <th>15</th>\n",
              "      <th>16</th>\n",
              "      <th>17</th>\n",
              "      <th>18</th>\n",
              "      <th>19</th>\n",
              "      <th>20</th>\n",
              "      <th>21</th>\n",
              "      <th>22</th>\n",
              "      <th>23</th>\n",
              "      <th>24</th>\n",
              "      <th>25</th>\n",
              "      <th>26</th>\n",
              "      <th>27</th>\n",
              "      <th>28</th>\n",
              "      <th>29</th>\n",
              "      <th>30</th>\n",
              "      <th>31</th>\n",
              "      <th>32</th>\n",
              "      <th>33</th>\n",
              "      <th>34</th>\n",
              "      <th>35</th>\n",
              "      <th>36</th>\n",
              "      <th>37</th>\n",
              "    </tr>\n",
              "  </thead>\n",
              "  <tbody>\n",
              "    <tr>\n",
              "      <th>0</th>\n",
              "      <td>-0.256848</td>\n",
              "      <td>-0.180379</td>\n",
              "      <td>-0.174237</td>\n",
              "      <td>1.462396</td>\n",
              "      <td>1.0</td>\n",
              "      <td>0.0</td>\n",
              "      <td>0.0</td>\n",
              "      <td>0.0</td>\n",
              "      <td>1.0</td>\n",
              "      <td>1.0</td>\n",
              "      <td>0.0</td>\n",
              "      <td>0.0</td>\n",
              "      <td>0.0</td>\n",
              "      <td>0.0</td>\n",
              "      <td>0.0</td>\n",
              "      <td>1.0</td>\n",
              "      <td>0.0</td>\n",
              "      <td>0.0</td>\n",
              "      <td>1.0</td>\n",
              "      <td>0.0</td>\n",
              "      <td>1.0</td>\n",
              "      <td>0.0</td>\n",
              "      <td>0.0</td>\n",
              "      <td>0.0</td>\n",
              "      <td>0.0</td>\n",
              "      <td>0.0</td>\n",
              "      <td>0.0</td>\n",
              "      <td>0.0</td>\n",
              "      <td>0.0</td>\n",
              "      <td>0.0</td>\n",
              "      <td>0.0</td>\n",
              "      <td>0.0</td>\n",
              "      <td>0.0</td>\n",
              "      <td>0.0</td>\n",
              "      <td>1.0</td>\n",
              "      <td>-0.100065</td>\n",
              "      <td>0.456630</td>\n",
              "      <td>0.443317</td>\n",
              "    </tr>\n",
              "    <tr>\n",
              "      <th>1</th>\n",
              "      <td>-1.158154</td>\n",
              "      <td>-0.180379</td>\n",
              "      <td>-0.449974</td>\n",
              "      <td>1.462396</td>\n",
              "      <td>1.0</td>\n",
              "      <td>0.0</td>\n",
              "      <td>0.0</td>\n",
              "      <td>0.0</td>\n",
              "      <td>1.0</td>\n",
              "      <td>1.0</td>\n",
              "      <td>0.0</td>\n",
              "      <td>0.0</td>\n",
              "      <td>0.0</td>\n",
              "      <td>0.0</td>\n",
              "      <td>0.0</td>\n",
              "      <td>1.0</td>\n",
              "      <td>0.0</td>\n",
              "      <td>0.0</td>\n",
              "      <td>1.0</td>\n",
              "      <td>0.0</td>\n",
              "      <td>1.0</td>\n",
              "      <td>0.0</td>\n",
              "      <td>0.0</td>\n",
              "      <td>0.0</td>\n",
              "      <td>0.0</td>\n",
              "      <td>0.0</td>\n",
              "      <td>0.0</td>\n",
              "      <td>0.0</td>\n",
              "      <td>0.0</td>\n",
              "      <td>0.0</td>\n",
              "      <td>0.0</td>\n",
              "      <td>0.0</td>\n",
              "      <td>0.0</td>\n",
              "      <td>0.0</td>\n",
              "      <td>1.0</td>\n",
              "      <td>0.483546</td>\n",
              "      <td>0.479787</td>\n",
              "      <td>0.595458</td>\n",
              "    </tr>\n",
              "    <tr>\n",
              "      <th>2</th>\n",
              "      <td>-0.056558</td>\n",
              "      <td>-0.647342</td>\n",
              "      <td>-0.312105</td>\n",
              "      <td>-0.788946</td>\n",
              "      <td>0.0</td>\n",
              "      <td>1.0</td>\n",
              "      <td>0.0</td>\n",
              "      <td>0.0</td>\n",
              "      <td>1.0</td>\n",
              "      <td>1.0</td>\n",
              "      <td>0.0</td>\n",
              "      <td>0.0</td>\n",
              "      <td>0.0</td>\n",
              "      <td>0.0</td>\n",
              "      <td>0.0</td>\n",
              "      <td>1.0</td>\n",
              "      <td>0.0</td>\n",
              "      <td>0.0</td>\n",
              "      <td>0.0</td>\n",
              "      <td>1.0</td>\n",
              "      <td>0.0</td>\n",
              "      <td>0.0</td>\n",
              "      <td>0.0</td>\n",
              "      <td>0.0</td>\n",
              "      <td>0.0</td>\n",
              "      <td>1.0</td>\n",
              "      <td>0.0</td>\n",
              "      <td>0.0</td>\n",
              "      <td>0.0</td>\n",
              "      <td>0.0</td>\n",
              "      <td>0.0</td>\n",
              "      <td>0.0</td>\n",
              "      <td>0.0</td>\n",
              "      <td>0.0</td>\n",
              "      <td>1.0</td>\n",
              "      <td>0.204081</td>\n",
              "      <td>-0.452708</td>\n",
              "      <td>-0.988192</td>\n",
              "    </tr>\n",
              "    <tr>\n",
              "      <th>3</th>\n",
              "      <td>-0.256848</td>\n",
              "      <td>-0.180379</td>\n",
              "      <td>-0.449974</td>\n",
              "      <td>0.711949</td>\n",
              "      <td>1.0</td>\n",
              "      <td>0.0</td>\n",
              "      <td>0.0</td>\n",
              "      <td>0.0</td>\n",
              "      <td>1.0</td>\n",
              "      <td>1.0</td>\n",
              "      <td>0.0</td>\n",
              "      <td>0.0</td>\n",
              "      <td>0.0</td>\n",
              "      <td>0.0</td>\n",
              "      <td>0.0</td>\n",
              "      <td>1.0</td>\n",
              "      <td>0.0</td>\n",
              "      <td>0.0</td>\n",
              "      <td>1.0</td>\n",
              "      <td>0.0</td>\n",
              "      <td>1.0</td>\n",
              "      <td>0.0</td>\n",
              "      <td>0.0</td>\n",
              "      <td>0.0</td>\n",
              "      <td>0.0</td>\n",
              "      <td>0.0</td>\n",
              "      <td>0.0</td>\n",
              "      <td>0.0</td>\n",
              "      <td>0.0</td>\n",
              "      <td>0.0</td>\n",
              "      <td>0.0</td>\n",
              "      <td>0.0</td>\n",
              "      <td>0.0</td>\n",
              "      <td>0.0</td>\n",
              "      <td>1.0</td>\n",
              "      <td>0.120067</td>\n",
              "      <td>0.497599</td>\n",
              "      <td>0.941233</td>\n",
              "    </tr>\n",
              "    <tr>\n",
              "      <th>4</th>\n",
              "      <td>-0.957863</td>\n",
              "      <td>-0.180379</td>\n",
              "      <td>-0.449974</td>\n",
              "      <td>1.462396</td>\n",
              "      <td>0.0</td>\n",
              "      <td>0.0</td>\n",
              "      <td>0.0</td>\n",
              "      <td>0.0</td>\n",
              "      <td>1.0</td>\n",
              "      <td>1.0</td>\n",
              "      <td>0.0</td>\n",
              "      <td>0.0</td>\n",
              "      <td>0.0</td>\n",
              "      <td>0.0</td>\n",
              "      <td>0.0</td>\n",
              "      <td>1.0</td>\n",
              "      <td>1.0</td>\n",
              "      <td>0.0</td>\n",
              "      <td>0.0</td>\n",
              "      <td>0.0</td>\n",
              "      <td>0.0</td>\n",
              "      <td>0.0</td>\n",
              "      <td>0.0</td>\n",
              "      <td>0.0</td>\n",
              "      <td>0.0</td>\n",
              "      <td>0.0</td>\n",
              "      <td>0.0</td>\n",
              "      <td>0.0</td>\n",
              "      <td>0.0</td>\n",
              "      <td>0.0</td>\n",
              "      <td>1.0</td>\n",
              "      <td>0.0</td>\n",
              "      <td>0.0</td>\n",
              "      <td>0.0</td>\n",
              "      <td>0.0</td>\n",
              "      <td>0.946247</td>\n",
              "      <td>0.326597</td>\n",
              "      <td>-0.925952</td>\n",
              "    </tr>\n",
              "  </tbody>\n",
              "</table>\n",
              "</div>"
            ],
            "text/plain": [
              "          0         1         2         3  ...   34        35        36        37\n",
              "0 -0.256848 -0.180379 -0.174237  1.462396  ...  1.0 -0.100065  0.456630  0.443317\n",
              "1 -1.158154 -0.180379 -0.449974  1.462396  ...  1.0  0.483546  0.479787  0.595458\n",
              "2 -0.056558 -0.647342 -0.312105 -0.788946  ...  1.0  0.204081 -0.452708 -0.988192\n",
              "3 -0.256848 -0.180379 -0.449974  0.711949  ...  1.0  0.120067  0.497599  0.941233\n",
              "4 -0.957863 -0.180379 -0.449974  1.462396  ...  0.0  0.946247  0.326597 -0.925952\n",
              "\n",
              "[5 rows x 38 columns]"
            ]
          },
          "metadata": {
            "tags": []
          },
          "execution_count": 10
        }
      ]
    },
    {
      "cell_type": "markdown",
      "metadata": {
        "id": "cfQsU7q-TYE5"
      },
      "source": [
        "#### Question \n",
        "Quelle est la proportion de $1$ et de $-1$ dans le label ?"
      ]
    },
    {
      "cell_type": "markdown",
      "metadata": {
        "id": "nIpMjDiCwV8j"
      },
      "source": [
        "Dans cette question va arrondir les proportions au dixième près."
      ]
    },
    {
      "cell_type": "code",
      "metadata": {
        "id": "L8jsgJ1oTaM6",
        "colab": {
          "base_uri": "https://localhost:8080/"
        },
        "outputId": "df581fb4-63f5-4fd9-87b5-a1b70f552a76"
      },
      "source": [
        "len(y)"
      ],
      "execution_count": 15,
      "outputs": [
        {
          "output_type": "execute_result",
          "data": {
            "text/plain": [
              "6725"
            ]
          },
          "metadata": {
            "tags": []
          },
          "execution_count": 15
        }
      ]
    },
    {
      "cell_type": "markdown",
      "metadata": {
        "id": "aHrQUmkrwZ4j"
      },
      "source": [
        "Le label comporte 6725 observations"
      ]
    },
    {
      "cell_type": "code",
      "metadata": {
        "colab": {
          "base_uri": "https://localhost:8080/"
        },
        "id": "mWKB55yowaWm",
        "outputId": "a1a9250d-15a0-4a87-fe48-a8810eb09944"
      },
      "source": [
        "y.value_counts()"
      ],
      "execution_count": 16,
      "outputs": [
        {
          "output_type": "execute_result",
          "data": {
            "text/plain": [
              "-1    6235\n",
              " 1     490\n",
              "Name: Y, dtype: int64"
            ]
          },
          "metadata": {
            "tags": []
          },
          "execution_count": 16
        }
      ]
    },
    {
      "cell_type": "code",
      "metadata": {
        "colab": {
          "base_uri": "https://localhost:8080/"
        },
        "id": "P4UyZVoywc0r",
        "outputId": "5117d0b1-6ae6-4332-bd5a-9591ec21a8e6"
      },
      "source": [
        "total = sum(y.value_counts())\n",
        "print(f\"Proportion de -1 : {round(y.value_counts()[-1] * 100 / total,1)} %\")\n",
        "print(f\"Proportion de 1 : {round(y.value_counts()[1] * 100 / total,1)} %\")"
      ],
      "execution_count": 17,
      "outputs": [
        {
          "output_type": "stream",
          "text": [
            "Proportion de -1 : 92.7 %\n",
            "Proportion de 1 : 7.3 %\n"
          ],
          "name": "stdout"
        }
      ]
    },
    {
      "cell_type": "markdown",
      "metadata": {
        "id": "GtzyXkHWwaq5"
      },
      "source": [
        "Pour 6725 observations du label, 6235 ont comme valeur -1 ce qui représente environ 92,7% des observations, et 490 ont comme valeurs 1 ce qui représente environ 7,3% observations."
      ]
    },
    {
      "cell_type": "markdown",
      "metadata": {
        "id": "nJf3wMK8fsP1"
      },
      "source": [
        "## Création des jeux de données Train et Test\n",
        "On crée des jeux de données train (85% du jeu de données initial) et test (15%)"
      ]
    },
    {
      "cell_type": "code",
      "metadata": {
        "scrolled": false,
        "id": "tPWJ_bMKfsP2"
      },
      "source": [
        "from sklearn.model_selection import train_test_split\n",
        "\n",
        "X_train, X_test, y_train, y_test = train_test_split(X, y,  test_size=0.15,\n",
        "                                                    shuffle=True, random_state=34)"
      ],
      "execution_count": 19,
      "outputs": []
    },
    {
      "cell_type": "markdown",
      "metadata": {
        "id": "NxSI_CfCTVTN"
      },
      "source": [
        "#### Question\n",
        "Quelle est la proportion de $1$ et de $-1$ dans les jeux de données train et test ?"
      ]
    },
    {
      "cell_type": "markdown",
      "metadata": {
        "id": "LNI5NWiKxEai"
      },
      "source": [
        "Dans cette question va arrondir les proportions au dixième près."
      ]
    },
    {
      "cell_type": "code",
      "metadata": {
        "id": "lEHgWnB2fsP3",
        "colab": {
          "base_uri": "https://localhost:8080/"
        },
        "outputId": "5ba6ea3c-9a2c-4e3d-b7fc-8858ea4b0c1a"
      },
      "source": [
        "len(y_train)"
      ],
      "execution_count": 20,
      "outputs": [
        {
          "output_type": "execute_result",
          "data": {
            "text/plain": [
              "5716"
            ]
          },
          "metadata": {
            "tags": []
          },
          "execution_count": 20
        }
      ]
    },
    {
      "cell_type": "code",
      "metadata": {
        "scrolled": true,
        "id": "X4UCz9pPfsP3",
        "colab": {
          "base_uri": "https://localhost:8080/"
        },
        "outputId": "ae8ca4fd-0f70-4947-c4b7-c7ce959ec738"
      },
      "source": [
        "len(y_test)"
      ],
      "execution_count": 21,
      "outputs": [
        {
          "output_type": "execute_result",
          "data": {
            "text/plain": [
              "1009"
            ]
          },
          "metadata": {
            "tags": []
          },
          "execution_count": 21
        }
      ]
    },
    {
      "cell_type": "markdown",
      "metadata": {
        "id": "Qy90WTvSxKda"
      },
      "source": [
        "Ici on créé deux jeux de données de sorte à avoir un train set comportant 85% du jeu de donnnées initial (donc 5716 observations), et un test set comportant 15% du jeu de données initial (donc 1009 observations)."
      ]
    },
    {
      "cell_type": "markdown",
      "metadata": {
        "id": "Crb7eVdxxQPZ"
      },
      "source": [
        "**Train :**"
      ]
    },
    {
      "cell_type": "code",
      "metadata": {
        "colab": {
          "base_uri": "https://localhost:8080/"
        },
        "id": "WvWjiyFwxLKf",
        "outputId": "c20d568d-19a8-443c-b7e3-677b81530369"
      },
      "source": [
        "y_train.value_counts()"
      ],
      "execution_count": 22,
      "outputs": [
        {
          "output_type": "execute_result",
          "data": {
            "text/plain": [
              "-1    5296\n",
              " 1     420\n",
              "Name: Y, dtype: int64"
            ]
          },
          "metadata": {
            "tags": []
          },
          "execution_count": 22
        }
      ]
    },
    {
      "cell_type": "code",
      "metadata": {
        "colab": {
          "base_uri": "https://localhost:8080/"
        },
        "id": "eskYF8e0xbYf",
        "outputId": "ff704867-f56d-4344-9e5e-d5c60a1d3033"
      },
      "source": [
        "total = sum(y_train.value_counts())\n",
        "print(f\"Proportion de -1 : {round(y_train.value_counts()[-1] * 100 / total,1)} %\")\n",
        "print(f\"Proportion de 1 : {round(y_train.value_counts()[1] * 100 / total,1)} %\")"
      ],
      "execution_count": 23,
      "outputs": [
        {
          "output_type": "stream",
          "text": [
            "Proportion de -1 : 92.7 %\n",
            "Proportion de 1 : 7.3 %\n"
          ],
          "name": "stdout"
        }
      ]
    },
    {
      "cell_type": "markdown",
      "metadata": {
        "id": "xQ-jF3zVxeLm"
      },
      "source": [
        "Pour le train set, on obtient environ 92,7% des observations  qui ont comme valeur -1, et environ 7,3% des observations qui ont comme valeur 1."
      ]
    },
    {
      "cell_type": "markdown",
      "metadata": {
        "id": "6X6x1lN7xT8K"
      },
      "source": [
        "**Test :**"
      ]
    },
    {
      "cell_type": "code",
      "metadata": {
        "colab": {
          "base_uri": "https://localhost:8080/"
        },
        "id": "fUwjq8eHxmXJ",
        "outputId": "ca132a58-f826-47c9-e9c5-bdc7bc8b9b8a"
      },
      "source": [
        "y_test.value_counts()"
      ],
      "execution_count": 24,
      "outputs": [
        {
          "output_type": "execute_result",
          "data": {
            "text/plain": [
              "-1    939\n",
              " 1     70\n",
              "Name: Y, dtype: int64"
            ]
          },
          "metadata": {
            "tags": []
          },
          "execution_count": 24
        }
      ]
    },
    {
      "cell_type": "code",
      "metadata": {
        "colab": {
          "base_uri": "https://localhost:8080/"
        },
        "id": "giHPORWFxmsQ",
        "outputId": "8473c356-760a-4ddb-f28a-f3acb259be7e"
      },
      "source": [
        "total = sum(y_test.value_counts())\n",
        "print(f\"Proportion de -1 : {round(y_test.value_counts()[-1] * 100 / total,1)} %\")\n",
        "print(f\"Proportion de 1 : {round(y_test.value_counts()[1] * 100 / total,1)} %\")"
      ],
      "execution_count": 25,
      "outputs": [
        {
          "output_type": "stream",
          "text": [
            "Proportion de -1 : 93.1 %\n",
            "Proportion de 1 : 6.9 %\n"
          ],
          "name": "stdout"
        }
      ]
    },
    {
      "cell_type": "markdown",
      "metadata": {
        "id": "tTAcGE8-xm9O"
      },
      "source": [
        "Pour le test set, on obtient environ 93,1% des observations qui ont commme valeur -1, et environ 6,9% des observations qui ont comme valeur 1."
      ]
    },
    {
      "cell_type": "markdown",
      "metadata": {
        "id": "ojo303C5xwP3"
      },
      "source": [
        "On remarque que les proportions dans les jeux de données créés sont presque les mêmes que celles dans le jeu de données initial."
      ]
    },
    {
      "cell_type": "markdown",
      "metadata": {
        "id": "qHZ9eYv_fsP3"
      },
      "source": [
        "#### Question \n",
        "Pour éviter la mauvaise répartion des $1$ entre le train et le test, ajouter l'option `stratify=y` dans la fonction `train_test_split`. Est ce que cela change quelque chose ? A votre avis comment se fait le split avec cette option ?"
      ]
    },
    {
      "cell_type": "code",
      "metadata": {
        "id": "EOfceyH8UC5B"
      },
      "source": [
        "# On ajoute l'option \"stratify=y\" à la création des deux jeux de données\n",
        "X_train, X_test, y_train, y_test = train_test_split(X, y,  test_size=0.15,shuffle=True, random_state=34, stratify=y)"
      ],
      "execution_count": 26,
      "outputs": []
    },
    {
      "cell_type": "markdown",
      "metadata": {
        "id": "NvZdlxJux4-a"
      },
      "source": [
        "Dans cette question va arrondir les proportions au dixième près."
      ]
    },
    {
      "cell_type": "markdown",
      "metadata": {
        "id": "PGRDasr_x75H"
      },
      "source": [
        "**Train :**"
      ]
    },
    {
      "cell_type": "code",
      "metadata": {
        "id": "jCgmc7KUUK0G",
        "colab": {
          "base_uri": "https://localhost:8080/"
        },
        "outputId": "b9fbd466-b3fe-4be4-b62b-e6fba1e047fb"
      },
      "source": [
        "y_train.value_counts()"
      ],
      "execution_count": 27,
      "outputs": [
        {
          "output_type": "execute_result",
          "data": {
            "text/plain": [
              "-1    5300\n",
              " 1     416\n",
              "Name: Y, dtype: int64"
            ]
          },
          "metadata": {
            "tags": []
          },
          "execution_count": 27
        }
      ]
    },
    {
      "cell_type": "code",
      "metadata": {
        "id": "oqElG5WdUM5T",
        "colab": {
          "base_uri": "https://localhost:8080/"
        },
        "outputId": "e4cf1462-c931-4630-81b6-6d857006be84"
      },
      "source": [
        "total = sum(y_train.value_counts())\n",
        "print(f\"Proportion de -1 : {round(y_train.value_counts()[-1] * 100 / total,1)} %\")\n",
        "print(f\"Proportion de 1 : {round(y_train.value_counts()[1] * 100 / total,1)} %\")"
      ],
      "execution_count": 28,
      "outputs": [
        {
          "output_type": "stream",
          "text": [
            "Proportion de -1 : 92.7 %\n",
            "Proportion de 1 : 7.3 %\n"
          ],
          "name": "stdout"
        }
      ]
    },
    {
      "cell_type": "markdown",
      "metadata": {
        "id": "N7WdBmsvyEtS"
      },
      "source": [
        "**Test :**"
      ]
    },
    {
      "cell_type": "code",
      "metadata": {
        "colab": {
          "base_uri": "https://localhost:8080/"
        },
        "id": "HSkkshDiyEQX",
        "outputId": "f1a98316-e249-4775-dcb5-5e2f0e448bf1"
      },
      "source": [
        "y_test.value_counts()"
      ],
      "execution_count": 29,
      "outputs": [
        {
          "output_type": "execute_result",
          "data": {
            "text/plain": [
              "-1    935\n",
              " 1     74\n",
              "Name: Y, dtype: int64"
            ]
          },
          "metadata": {
            "tags": []
          },
          "execution_count": 29
        }
      ]
    },
    {
      "cell_type": "code",
      "metadata": {
        "colab": {
          "base_uri": "https://localhost:8080/"
        },
        "id": "T9gs-McIyITf",
        "outputId": "5f4c244a-1c09-4778-8a86-05feba85b88c"
      },
      "source": [
        "total = sum(y_test.value_counts())\n",
        "print(f\"Proportion de -1 : {round(y_test.value_counts()[-1] * 100 / total, 1)} %\")\n",
        "print(f\"Proportion de 1 : {round(y_test.value_counts()[1] * 100 / total, 1)} %\")"
      ],
      "execution_count": 30,
      "outputs": [
        {
          "output_type": "stream",
          "text": [
            "Proportion de -1 : 92.7 %\n",
            "Proportion de 1 : 7.3 %\n"
          ],
          "name": "stdout"
        }
      ]
    },
    {
      "cell_type": "markdown",
      "metadata": {
        "id": "xgjEhcRAyJ4k"
      },
      "source": [
        "Avec cette option en plus, on remarque un changement dans les proportions du train set et du test set. Avec ce split, les deux classes sont équitablement distribuées entre les deux data set, on aura donc approximativement la même proportion dans le train set (environ 92,7% de -1) et le test set (environ 92,7% de -1)"
      ]
    },
    {
      "cell_type": "markdown",
      "metadata": {
        "id": "CnAiCYl-YWFY"
      },
      "source": [
        "#### Question\n",
        "Quelle est l'accuracy sur le train et sur le test du classifieur qui prédit $-1$ pour tout le monde ?"
      ]
    },
    {
      "cell_type": "markdown",
      "metadata": {
        "id": "zKs9WC1QygUq"
      },
      "source": [
        "L'accuracy que l'on obtiendra sera égal à la proportion de -1 dans chaque data set (c'est-à-dire environ 92,7% pour les deux data set), nous allons verifier les résultats à l'aide la fonction \"accuracy_score\" issu du package metrics de sklearn."
      ]
    },
    {
      "cell_type": "code",
      "metadata": {
        "id": "astJ7KFyYdTv"
      },
      "source": [
        "import sklearn.metrics # On charge le package metrics de sklearn"
      ],
      "execution_count": 31,
      "outputs": []
    },
    {
      "cell_type": "markdown",
      "metadata": {
        "id": "8ybbcI-iypjT"
      },
      "source": [
        "**Train :**"
      ]
    },
    {
      "cell_type": "code",
      "metadata": {
        "id": "X7XYQdBVYl2k",
        "colab": {
          "base_uri": "https://localhost:8080/"
        },
        "outputId": "3fba6d2c-fb47-4177-f376-0683a5fb478f"
      },
      "source": [
        "y_train_naif = -np.ones_like(y_train) # On créé un modèle naif qui comporte autant d'observations que le train set et qui comporte que des -1\n",
        "print(y_train_naif)\n",
        "sklearn.metrics.accuracy_score(y_train, y_train_naif) # On utilise la fonction accuracy_score issu de metrics pour calculer l'accuracy de ce modèle"
      ],
      "execution_count": 32,
      "outputs": [
        {
          "output_type": "stream",
          "text": [
            "[-1 -1 -1 ... -1 -1 -1]\n"
          ],
          "name": "stdout"
        },
        {
          "output_type": "execute_result",
          "data": {
            "text/plain": [
              "0.927221833449965"
            ]
          },
          "metadata": {
            "tags": []
          },
          "execution_count": 32
        }
      ]
    },
    {
      "cell_type": "markdown",
      "metadata": {
        "id": "RX7iTIrOyokz"
      },
      "source": [
        "Pour le train set l'accuracy est d'environ 92,7%"
      ]
    },
    {
      "cell_type": "markdown",
      "metadata": {
        "id": "NWKbKrtsytz-"
      },
      "source": [
        "**Test :**"
      ]
    },
    {
      "cell_type": "code",
      "metadata": {
        "colab": {
          "base_uri": "https://localhost:8080/"
        },
        "id": "oTaZp9aCywlG",
        "outputId": "b2d1045f-5881-44bf-a4de-349cc38e2800"
      },
      "source": [
        "y_test_naif = -np.ones_like(y_test) # On créé un modèle naif qui comporte autant d'observations que le test set et qui comporte que des -1\n",
        "print(y_test_naif)\n",
        "sklearn.metrics.accuracy_score(y_test, y_test_naif) # On utilise la fonction accuracy_score issu de metrics pour calculer l'accuracy de ce modèle"
      ],
      "execution_count": 33,
      "outputs": [
        {
          "output_type": "stream",
          "text": [
            "[-1 -1 -1 ... -1 -1 -1]\n"
          ],
          "name": "stdout"
        },
        {
          "output_type": "execute_result",
          "data": {
            "text/plain": [
              "0.9266600594648167"
            ]
          },
          "metadata": {
            "tags": []
          },
          "execution_count": 33
        }
      ]
    },
    {
      "cell_type": "markdown",
      "metadata": {
        "id": "TWgbxQK9ywLz"
      },
      "source": [
        "Pour le test set l'accuracy est d'environ 92,7%"
      ]
    },
    {
      "cell_type": "markdown",
      "metadata": {
        "id": "wBxCsSu_y45D"
      },
      "source": [
        "Comme prévu, on obtient bien les mêmes pourcentages de proportions de -1."
      ]
    },
    {
      "cell_type": "markdown",
      "metadata": {
        "id": "qYqTDClHfsP4"
      },
      "source": [
        "## Classification\n",
        "On va calculer pour chaque classifieur l'accuracy et l'AUC sur le train et sur les test. On se concentre sur l'AUC. On a créé une fonction qui conserve les valeurs de l'accuracy et de l'auc pour toutes les méthodes que nous allons comparer."
      ]
    },
    {
      "cell_type": "markdown",
      "metadata": {
        "id": "5cOSszd5fsP4"
      },
      "source": [
        "### Metriques\n"
      ]
    },
    {
      "cell_type": "code",
      "metadata": {
        "id": "NSS2X2sJfsP5"
      },
      "source": [
        "from sklearn import metrics"
      ],
      "execution_count": 34,
      "outputs": []
    },
    {
      "cell_type": "code",
      "metadata": {
        "id": "Hn8zxsqCfsP5"
      },
      "source": [
        "# 5 listes qui contiendront nos différents résultats et noms des méthodes\n",
        "methods = []\n",
        "scores_train_accu = []\n",
        "scores_train_auc = []\n",
        "scores_test_accu = []\n",
        "scores_test_auc = []"
      ],
      "execution_count": 35,
      "outputs": []
    },
    {
      "cell_type": "code",
      "metadata": {
        "id": "1iz3KtaEVq5I"
      },
      "source": [
        "def calcul_scores(classif,nom_method,X_train=X_train, y_train=y_train,X_test=X_test, y_test=y_test,\n",
        "                  scores_train_accu=scores_train_accu,\n",
        "                  scores_test_accu=scores_test_accu, \n",
        "                  scores_train_auc=scores_train_auc,\n",
        "                  scores_test_auc=scores_test_auc,\n",
        "                  methods=methods):\n",
        "    \"\"\"\n",
        "    classif : méthode classification\n",
        "    nom_method : nom que vous donnez à la méthode\n",
        "    les autres paramètres ont des valeurs par défaut\n",
        "    \"\"\"\n",
        "\n",
        "    fit_model = classif.fit(X_train, y_train) # on fit la méthode sur le train\n",
        "    pred_train = fit_model.predict(X_train) # on fait les prédictions sur le train\n",
        "    pred_test = fit_model.predict(X_test) # on fait les prédictions sur le test\n",
        "    accuracy_train = metrics.accuracy_score(y_train, pred_train) # on calcule l'accuracy sur le train\n",
        "    accuracy_test = metrics.accuracy_score(y_test, pred_test) # on calcule l'accuracy sur le test\n",
        "\n",
        "    methods.append(nom_method) # on ajoute le nom de la méthode à notre liste methods\n",
        "    scores_train_accu.append(accuracy_train) # on ajoute l'accuracy à notre liste accuracy_train\n",
        "    scores_test_accu.append(accuracy_test) # on ajoute l'accuracy à notre liste accuracy_test\n",
        "\n",
        "    ######## # on calcule l'AUC sur le train\n",
        "    fpr, tpr, thresholds = metrics.roc_curve(y_train, pred_train) \n",
        "    auc_train = metrics.auc(fpr, tpr)\n",
        "    scores_train_auc.append(auc_train)\n",
        "\n",
        "    ######## # on calcule l'AUC sur le train\n",
        "    fpr, tpr, thresholds = metrics.roc_curve(y_test, pred_test) # on calcule l'AUC sur le test\n",
        "    auc_test = metrics.auc(fpr, tpr)\n",
        "    scores_test_auc.append(auc_test)\n",
        "\n",
        "    ####### on crée un dictionnaire\n",
        "    scores = {'scores_train_accu' : scores_train_accu,'scores_test_accu' :scores_test_accu,\n",
        "           'scores_train_auc' : scores_train_auc,'scores_test_auc' : scores_test_auc,\n",
        "                  'methods' : methods}\n",
        "    return(scores,fit_model) # on renvoie les scores et le fit"
      ],
      "execution_count": 36,
      "outputs": []
    },
    {
      "cell_type": "markdown",
      "metadata": {
        "id": "r1OAwMFyfsP5"
      },
      "source": [
        "## SVM linéaire"
      ]
    },
    {
      "cell_type": "code",
      "metadata": {
        "id": "zJl7EgVjVmDZ"
      },
      "source": [
        "from sklearn import svm"
      ],
      "execution_count": 37,
      "outputs": []
    },
    {
      "cell_type": "markdown",
      "metadata": {
        "id": "VfnCTymIfsP5"
      },
      "source": [
        "### Linear\n",
        "On commence par un svm linéaire à paramètre $C=1$"
      ]
    },
    {
      "cell_type": "code",
      "metadata": {
        "scrolled": false,
        "id": "_Z4mKM7VfsP6",
        "colab": {
          "base_uri": "https://localhost:8080/",
          "height": 80
        },
        "outputId": "1138d0f7-b78b-4389-9a5c-bcf82d6674e2"
      },
      "source": [
        "C = 1.0  # SVM regularization parameter\n",
        "SVM_linear = svm.SVC(kernel='linear', C=C)\n",
        "scores,fit_linear_C1 = calcul_scores(SVM_linear,\"svm_linear_C1\")\n",
        "####### on crée un pandas DataFrame à partir du dictionnaire `scores` et on l'affiche\n",
        "pd.DataFrame(scores)"
      ],
      "execution_count": 38,
      "outputs": [
        {
          "output_type": "execute_result",
          "data": {
            "text/html": [
              "<div>\n",
              "<style scoped>\n",
              "    .dataframe tbody tr th:only-of-type {\n",
              "        vertical-align: middle;\n",
              "    }\n",
              "\n",
              "    .dataframe tbody tr th {\n",
              "        vertical-align: top;\n",
              "    }\n",
              "\n",
              "    .dataframe thead th {\n",
              "        text-align: right;\n",
              "    }\n",
              "</style>\n",
              "<table border=\"1\" class=\"dataframe\">\n",
              "  <thead>\n",
              "    <tr style=\"text-align: right;\">\n",
              "      <th></th>\n",
              "      <th>scores_train_accu</th>\n",
              "      <th>scores_test_accu</th>\n",
              "      <th>scores_train_auc</th>\n",
              "      <th>scores_test_auc</th>\n",
              "      <th>methods</th>\n",
              "    </tr>\n",
              "  </thead>\n",
              "  <tbody>\n",
              "    <tr>\n",
              "      <th>0</th>\n",
              "      <td>0.937544</td>\n",
              "      <td>0.939544</td>\n",
              "      <td>0.605249</td>\n",
              "      <td>0.618948</td>\n",
              "      <td>svm_linear_C1</td>\n",
              "    </tr>\n",
              "  </tbody>\n",
              "</table>\n",
              "</div>"
            ],
            "text/plain": [
              "   scores_train_accu  scores_test_accu  ...  scores_test_auc        methods\n",
              "0           0.937544          0.939544  ...         0.618948  svm_linear_C1\n",
              "\n",
              "[1 rows x 5 columns]"
            ]
          },
          "metadata": {
            "tags": []
          },
          "execution_count": 38
        }
      ]
    },
    {
      "cell_type": "markdown",
      "metadata": {
        "id": "eMANVLTfYxB_"
      },
      "source": [
        "#### Question \n",
        "L'accuracy est très bonne. Calculez la proportion de $1$ prédits sur le test et commentez."
      ]
    },
    {
      "cell_type": "code",
      "metadata": {
        "id": "vitEoftAcKPT",
        "colab": {
          "base_uri": "https://localhost:8080/"
        },
        "outputId": "0f5babda-d900-40f1-954c-9efe1951f7fc"
      },
      "source": [
        "y_pred = fit_linear_C1.predict(X_test)\n",
        "print(f\"Proportion de 1 prédits : {round(100 * (y_pred == 1).sum() / len(y_pred), 1)} %\")"
      ],
      "execution_count": 39,
      "outputs": [
        {
          "output_type": "stream",
          "text": [
            "Proportion de 1 prédits : 2.3 %\n"
          ],
          "name": "stdout"
        }
      ]
    },
    {
      "cell_type": "code",
      "metadata": {
        "colab": {
          "base_uri": "https://localhost:8080/"
        },
        "id": "4AXdiK0JzIbp",
        "outputId": "ce483dff-b8ff-4653-ebfc-da4dd5b29225"
      },
      "source": [
        "sklearn.metrics.confusion_matrix(y_test,y_pred) # La matrice de confusion nous permet de mesurer la qualité du modèle, on l'affiche uniquement à titre indicatif "
      ],
      "execution_count": 40,
      "outputs": [
        {
          "output_type": "execute_result",
          "data": {
            "text/plain": [
              "array([[930,   5],\n",
              "       [ 56,  18]])"
            ]
          },
          "metadata": {
            "tags": []
          },
          "execution_count": 40
        }
      ]
    },
    {
      "cell_type": "markdown",
      "metadata": {
        "id": "Bv6P_C1cYzK_"
      },
      "source": [
        "Ce modèle à donc prédit environ 2.3% de 1.  \n",
        "\n"
      ]
    },
    {
      "cell_type": "markdown",
      "metadata": {
        "id": "6EPYLGvyfsP8"
      },
      "source": [
        "### Linear with balanced classification\n",
        "Pour prendre en compte la mauvaise répartition des $-1$ et des $1$ dans les labels, on va utiliser l'option `class_weight=\"balanced\"`\n"
      ]
    },
    {
      "cell_type": "markdown",
      "metadata": {
        "id": "POV89VqZY_yi"
      },
      "source": [
        "#### Question\n",
        "Reprendre le code précédent en ajoutant l'option `class_weight=\"balanced\"` à la fonction `svm.SVC`. Comparez le nombre de $1$ prédits sur le test avec et sans l'option. Commentez"
      ]
    },
    {
      "cell_type": "code",
      "metadata": {
        "id": "RnPj0evKfsP8",
        "colab": {
          "base_uri": "https://localhost:8080/",
          "height": 111
        },
        "outputId": "6f65a42c-7fa5-4989-a30c-2ec3f73b3a45"
      },
      "source": [
        "C = 1.0  # SVM regularization parameter\n",
        "SVM_linear_balanced = svm.SVC(kernel='linear', C=C, class_weight=\"balanced\")\n",
        "scores,fit_linear_C1_balanced = calcul_scores(SVM_linear_balanced,\"svm_linear_C1_balanced\")\n",
        "####### on crée un pandas DataFrame à partir du dictionnaire `scores` et on l'affiche\n",
        "pd.DataFrame(scores)"
      ],
      "execution_count": 41,
      "outputs": [
        {
          "output_type": "execute_result",
          "data": {
            "text/html": [
              "<div>\n",
              "<style scoped>\n",
              "    .dataframe tbody tr th:only-of-type {\n",
              "        vertical-align: middle;\n",
              "    }\n",
              "\n",
              "    .dataframe tbody tr th {\n",
              "        vertical-align: top;\n",
              "    }\n",
              "\n",
              "    .dataframe thead th {\n",
              "        text-align: right;\n",
              "    }\n",
              "</style>\n",
              "<table border=\"1\" class=\"dataframe\">\n",
              "  <thead>\n",
              "    <tr style=\"text-align: right;\">\n",
              "      <th></th>\n",
              "      <th>scores_train_accu</th>\n",
              "      <th>scores_test_accu</th>\n",
              "      <th>scores_train_auc</th>\n",
              "      <th>scores_test_auc</th>\n",
              "      <th>methods</th>\n",
              "    </tr>\n",
              "  </thead>\n",
              "  <tbody>\n",
              "    <tr>\n",
              "      <th>0</th>\n",
              "      <td>0.937544</td>\n",
              "      <td>0.939544</td>\n",
              "      <td>0.605249</td>\n",
              "      <td>0.618948</td>\n",
              "      <td>svm_linear_C1</td>\n",
              "    </tr>\n",
              "    <tr>\n",
              "      <th>1</th>\n",
              "      <td>0.905353</td>\n",
              "      <td>0.902874</td>\n",
              "      <td>0.900229</td>\n",
              "      <td>0.885374</td>\n",
              "      <td>svm_linear_C1_balanced</td>\n",
              "    </tr>\n",
              "  </tbody>\n",
              "</table>\n",
              "</div>"
            ],
            "text/plain": [
              "   scores_train_accu  scores_test_accu  ...  scores_test_auc                 methods\n",
              "0           0.937544          0.939544  ...         0.618948           svm_linear_C1\n",
              "1           0.905353          0.902874  ...         0.885374  svm_linear_C1_balanced\n",
              "\n",
              "[2 rows x 5 columns]"
            ]
          },
          "metadata": {
            "tags": []
          },
          "execution_count": 41
        }
      ]
    },
    {
      "cell_type": "code",
      "metadata": {
        "id": "LpkTL0Efb8oH",
        "colab": {
          "base_uri": "https://localhost:8080/"
        },
        "outputId": "fe76ea33-f230-4ec5-8735-c52504c719d2"
      },
      "source": [
        "y_pred_balanced = fit_linear_C1_balanced.predict(X_test)\n",
        "print(f\"Proportion de 1 prédits : {round(100 * (y_pred_balanced == 1).sum() / len(y_pred), 1)} %\")"
      ],
      "execution_count": 42,
      "outputs": [
        {
          "output_type": "stream",
          "text": [
            "Proportion de 1 prédits : 15.1 %\n"
          ],
          "name": "stdout"
        }
      ]
    },
    {
      "cell_type": "code",
      "metadata": {
        "id": "nDtY_Ca-z1Ln"
      },
      "source": [
        "sklearn.metrics.confusion_matrix(y_test,y_pred_balanced) # Matrice de confusion"
      ],
      "execution_count": null,
      "outputs": []
    },
    {
      "cell_type": "markdown",
      "metadata": {
        "id": "wTR-iEjlz5pE"
      },
      "source": [
        "Le nombre de 1 prédits sur le test avec l'option est plus grand que sur le test sans l'option. Cependant l'accuracy est inferieure sur le test avec l'option mais la différence entre les deux accuracy est faible (93,9 % environ sans l'option contre 90,3 % environ avec l'option). Le test avec l'option est donc meilleur que le test sans l'option."
      ]
    },
    {
      "cell_type": "markdown",
      "metadata": {
        "id": "KIg1NB0ffsP_"
      },
      "source": [
        "### Cross-validation sur $C$\n",
        "Voici une façon de faire de la cross-validation à 3 folds sur la valeur de $C$. Nous choissisons comme métrique pour choisir le meilleur hyperamètre l'AUC"
      ]
    },
    {
      "cell_type": "code",
      "metadata": {
        "id": "dzxvOxM-fsP_"
      },
      "source": [
        "from sklearn.model_selection import GridSearchCV, StratifiedKFold\n",
        "# A stratified K-Fold cross-validator\n",
        "cv = StratifiedKFold(n_splits=3)"
      ],
      "execution_count": 43,
      "outputs": []
    },
    {
      "cell_type": "markdown",
      "metadata": {
        "id": "eRcdqO3T0Jxr"
      },
      "source": [
        "Dans le code suivant, nous enlevons C = 100 car le calcul ne se finissait pas, nous savons que ce n'est pas le meilleur paramètre en vérifiant sur l'énoncé les résultats qui correspondaient à ceux de C = 0.01 (au maximum C = 100 sera un aussi bon hyperparamètre que C = 0.01 sinon il sera moins bon (ce qui est le plus plausible)) "
      ]
    },
    {
      "cell_type": "code",
      "metadata": {
        "id": "x5gujSCzfsQA"
      },
      "source": [
        "params = {\"C\": [1e-2, 1e-1, 1.0, 1e1]}#, 1e2]} # proposition de valeurs pour C\n",
        "svm_linear_balanced = svm.SVC(kernel='linear',class_weight=\"balanced\")\n",
        "svm_linear_cv = GridSearchCV(svm_linear_balanced, # classe de classifieurs\n",
        "                      params, # valeurs possibles pour C\n",
        "                      n_jobs=-1, # pour utiliser tous les coeurs disponibles\n",
        "                      scoring=\"roc_auc\", # pour utiliser l'AUC comme métrique\n",
        "                      cv=cv # voir chunk précédent\n",
        "                      )"
      ],
      "execution_count": 46,
      "outputs": []
    },
    {
      "cell_type": "code",
      "metadata": {
        "colab": {
          "base_uri": "https://localhost:8080/",
          "height": 142
        },
        "id": "R2avQHlAZlUr",
        "outputId": "3a72d39a-7754-4b80-8478-8b4557ce5566"
      },
      "source": [
        "scores , fit_linear_balanced_cv  = calcul_scores(svm_linear_cv,\"svm_linear_balanced_cv\")\n",
        "pd.DataFrame(scores)"
      ],
      "execution_count": 47,
      "outputs": [
        {
          "output_type": "execute_result",
          "data": {
            "text/html": [
              "<div>\n",
              "<style scoped>\n",
              "    .dataframe tbody tr th:only-of-type {\n",
              "        vertical-align: middle;\n",
              "    }\n",
              "\n",
              "    .dataframe tbody tr th {\n",
              "        vertical-align: top;\n",
              "    }\n",
              "\n",
              "    .dataframe thead th {\n",
              "        text-align: right;\n",
              "    }\n",
              "</style>\n",
              "<table border=\"1\" class=\"dataframe\">\n",
              "  <thead>\n",
              "    <tr style=\"text-align: right;\">\n",
              "      <th></th>\n",
              "      <th>scores_train_accu</th>\n",
              "      <th>scores_test_accu</th>\n",
              "      <th>scores_train_auc</th>\n",
              "      <th>scores_test_auc</th>\n",
              "      <th>methods</th>\n",
              "    </tr>\n",
              "  </thead>\n",
              "  <tbody>\n",
              "    <tr>\n",
              "      <th>0</th>\n",
              "      <td>0.937544</td>\n",
              "      <td>0.939544</td>\n",
              "      <td>0.605249</td>\n",
              "      <td>0.618948</td>\n",
              "      <td>svm_linear_C1</td>\n",
              "    </tr>\n",
              "    <tr>\n",
              "      <th>1</th>\n",
              "      <td>0.905353</td>\n",
              "      <td>0.902874</td>\n",
              "      <td>0.900229</td>\n",
              "      <td>0.885374</td>\n",
              "      <td>svm_linear_C1_balanced</td>\n",
              "    </tr>\n",
              "    <tr>\n",
              "      <th>2</th>\n",
              "      <td>0.847446</td>\n",
              "      <td>0.853320</td>\n",
              "      <td>0.881186</td>\n",
              "      <td>0.889746</td>\n",
              "      <td>svm_linear_balanced_cv</td>\n",
              "    </tr>\n",
              "  </tbody>\n",
              "</table>\n",
              "</div>"
            ],
            "text/plain": [
              "   scores_train_accu  scores_test_accu  ...  scores_test_auc                 methods\n",
              "0           0.937544          0.939544  ...         0.618948           svm_linear_C1\n",
              "1           0.905353          0.902874  ...         0.885374  svm_linear_C1_balanced\n",
              "2           0.847446          0.853320  ...         0.889746  svm_linear_balanced_cv\n",
              "\n",
              "[3 rows x 5 columns]"
            ]
          },
          "metadata": {
            "tags": []
          },
          "execution_count": 47
        }
      ]
    },
    {
      "cell_type": "markdown",
      "metadata": {
        "id": "4K8HSQBTduHp"
      },
      "source": [
        "#### Question\n",
        "quelle est la valeur de $C$ choisie ?"
      ]
    },
    {
      "cell_type": "markdown",
      "metadata": {
        "id": "CKvOFntz0RhU"
      },
      "source": [
        "La valeur de C choisie est celle qui nous donne la meilleure performance que l'on obtient grâce à la technique de Cross-validation en utilisant la fonction \"GridSearchCV\" et en créant un dictionnaire contenant les différentes valeurs à tester pour l'hyperparamètre C.\n",
        "\n",
        "Ainsi, avec la ligne affichée plus haut sur le pandas DataFrame avec comme nom de méthode \"svm_linear_balanced_cv\" est celle qui est utilisée avec le meilleur paramètre C.\n",
        "\n",
        "On obtient le meilleur hyperparamètre en écrivant la ligne de code suivante :"
      ]
    },
    {
      "cell_type": "code",
      "metadata": {
        "id": "qlhGwkE3fsQA",
        "colab": {
          "base_uri": "https://localhost:8080/"
        },
        "outputId": "00be220e-b3b0-4a70-f40a-5a9d1e2b92cf"
      },
      "source": [
        "svm_linear_cv.best_params_"
      ],
      "execution_count": 48,
      "outputs": [
        {
          "output_type": "execute_result",
          "data": {
            "text/plain": [
              "{'C': 0.01}"
            ]
          },
          "metadata": {
            "tags": []
          },
          "execution_count": 48
        }
      ]
    },
    {
      "cell_type": "markdown",
      "metadata": {
        "id": "m0IvKMR50U1T"
      },
      "source": [
        "La valeur de C choisie est donc C = 0.01"
      ]
    },
    {
      "cell_type": "markdown",
      "metadata": {
        "id": "EqWZroHkdg_H"
      },
      "source": [
        "## SVM radial basis function"
      ]
    },
    {
      "cell_type": "markdown",
      "metadata": {
        "id": "ZAjm6OD2dqQ8"
      },
      "source": [
        "#### Question \n",
        "Faire la même étude en cross-validation avec le noyau RBF."
      ]
    },
    {
      "cell_type": "code",
      "metadata": {
        "id": "dwPwFVlRd4Mm"
      },
      "source": [
        "#Cross-validation sur C avec le noyau RBF\n",
        "\n",
        "params = {\"C\": [1e-2, 1e-1, 1.0, 1e1, 1e2]} # proposition de valeurs pour C\n",
        "svm_RBF_balanced = svm.SVC(kernel='rbf',class_weight=\"balanced\")\n",
        "svm_RBF_cv = GridSearchCV(svm_RBF_balanced, # classe de classifieurs\n",
        "                      params, # valeurs possibles pour C\n",
        "                      n_jobs=-1, # pour utiliser tous les coeurs disponibles\n",
        "                      scoring=\"roc_auc\", # pour utiliser l'AUC comme métrique\n",
        "                      cv=cv # voir chunk précédent\n",
        "                      )"
      ],
      "execution_count": 49,
      "outputs": []
    },
    {
      "cell_type": "code",
      "metadata": {
        "id": "-1-2c8aYd_Lu",
        "colab": {
          "base_uri": "https://localhost:8080/",
          "height": 173
        },
        "outputId": "9f55d3b6-1627-4a34-f9d6-d276a755c905"
      },
      "source": [
        "scores , fit_RBF_balanced_cv  = calcul_scores(svm_RBF_cv,\"svm_RBF_balanced_cv\")\n",
        "pd.DataFrame(scores)"
      ],
      "execution_count": 50,
      "outputs": [
        {
          "output_type": "execute_result",
          "data": {
            "text/html": [
              "<div>\n",
              "<style scoped>\n",
              "    .dataframe tbody tr th:only-of-type {\n",
              "        vertical-align: middle;\n",
              "    }\n",
              "\n",
              "    .dataframe tbody tr th {\n",
              "        vertical-align: top;\n",
              "    }\n",
              "\n",
              "    .dataframe thead th {\n",
              "        text-align: right;\n",
              "    }\n",
              "</style>\n",
              "<table border=\"1\" class=\"dataframe\">\n",
              "  <thead>\n",
              "    <tr style=\"text-align: right;\">\n",
              "      <th></th>\n",
              "      <th>scores_train_accu</th>\n",
              "      <th>scores_test_accu</th>\n",
              "      <th>scores_train_auc</th>\n",
              "      <th>scores_test_auc</th>\n",
              "      <th>methods</th>\n",
              "    </tr>\n",
              "  </thead>\n",
              "  <tbody>\n",
              "    <tr>\n",
              "      <th>0</th>\n",
              "      <td>0.937544</td>\n",
              "      <td>0.939544</td>\n",
              "      <td>0.605249</td>\n",
              "      <td>0.618948</td>\n",
              "      <td>svm_linear_C1</td>\n",
              "    </tr>\n",
              "    <tr>\n",
              "      <th>1</th>\n",
              "      <td>0.905353</td>\n",
              "      <td>0.902874</td>\n",
              "      <td>0.900229</td>\n",
              "      <td>0.885374</td>\n",
              "      <td>svm_linear_C1_balanced</td>\n",
              "    </tr>\n",
              "    <tr>\n",
              "      <th>2</th>\n",
              "      <td>0.847446</td>\n",
              "      <td>0.853320</td>\n",
              "      <td>0.881186</td>\n",
              "      <td>0.889746</td>\n",
              "      <td>svm_linear_balanced_cv</td>\n",
              "    </tr>\n",
              "    <tr>\n",
              "      <th>3</th>\n",
              "      <td>0.910777</td>\n",
              "      <td>0.906838</td>\n",
              "      <td>0.912014</td>\n",
              "      <td>0.887513</td>\n",
              "      <td>svm_RBF_balanced_cv</td>\n",
              "    </tr>\n",
              "  </tbody>\n",
              "</table>\n",
              "</div>"
            ],
            "text/plain": [
              "   scores_train_accu  scores_test_accu  ...  scores_test_auc                 methods\n",
              "0           0.937544          0.939544  ...         0.618948           svm_linear_C1\n",
              "1           0.905353          0.902874  ...         0.885374  svm_linear_C1_balanced\n",
              "2           0.847446          0.853320  ...         0.889746  svm_linear_balanced_cv\n",
              "3           0.910777          0.906838  ...         0.887513     svm_RBF_balanced_cv\n",
              "\n",
              "[4 rows x 5 columns]"
            ]
          },
          "metadata": {
            "tags": []
          },
          "execution_count": 50
        }
      ]
    },
    {
      "cell_type": "code",
      "metadata": {
        "colab": {
          "base_uri": "https://localhost:8080/"
        },
        "id": "6J3Ytdos0byx",
        "outputId": "236d55be-aebb-4ecb-90e1-9582cd607a65"
      },
      "source": [
        "svm_RBF_cv.best_params_"
      ],
      "execution_count": 51,
      "outputs": [
        {
          "output_type": "execute_result",
          "data": {
            "text/plain": [
              "{'C': 1.0}"
            ]
          },
          "metadata": {
            "tags": []
          },
          "execution_count": 51
        }
      ]
    },
    {
      "cell_type": "markdown",
      "metadata": {
        "id": "8AbT_POt0kbD"
      },
      "source": [
        "Avec le noyau RBF, le valeur de C qui nous donne la meilleure performance est C = 1"
      ]
    }
  ]
}